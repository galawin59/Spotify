{
 "cells": [
  {
   "cell_type": "code",
   "execution_count": 1,
   "metadata": {},
   "outputs": [],
   "source": [
    "# import des librairies dont nous aurons besoin\n",
    "import pandas as pd\n",
    "import pprint\n",
    "import numpy as np\n",
    "import re\n",
    "import missingno as msno \n",
    "import seaborn as sns\n",
    "import matplotlib.pyplot as plt\n",
    "import seaborn as sms\n",
    "from sklearn.linear_model import ElasticNet, Lasso, LinearRegression, Ridge\n",
    "from sklearn.datasets import make_regression\n",
    "from sklearn.preprocessing import PolynomialFeatures, StandardScaler, OneHotEncoder, RobustScaler\n",
    "from sklearn.linear_model import SGDClassifier\n",
    "from sklearn.pipeline import make_pipeline, Pipeline\n",
    "from sklearn.impute import SimpleImputer\n",
    "from sklearn.compose import make_column_transformer, make_column_selector, ColumnTransformer\n",
    "from sklearn.model_selection import train_test_split, GridSearchCV, RandomizedSearchCV, cross_val_score, cross_validate\n",
    "\n",
    "\n",
    "# chargement et affichage des données\n",
    "data = pd.read_csv('df2020_2021.csv')"
   ]
  },
  {
   "cell_type": "markdown",
   "metadata": {},
   "source": [
    "Vous travaillez pour une entreprise qui crée des rééditions d’albums de musique légendaires au format vinyle"
   ]
  },
  {
   "cell_type": "markdown",
   "metadata": {},
   "source": [
    "En se basant sur les caractéristiques musicales d’un morceau, est ce qu’un tube sorti il y a des années et qui est devenu un classique aurait connu le même succès s’il avait été sorti récemment"
   ]
  },
  {
   "cell_type": "markdown",
   "metadata": {},
   "source": [
    "étudier le lien entre les caractéristiques musicales des morceaux sortis en 2022 et leur popularité pour appliquer ce modèle à n’importe morceau de l’histoire de la musique et en particulier du catalogue de votre entreprise"
   ]
  },
  {
   "cell_type": "code",
   "execution_count": 2,
   "metadata": {},
   "outputs": [
    {
     "data": {
      "text/html": [
       "<div>\n",
       "<style scoped>\n",
       "    .dataframe tbody tr th:only-of-type {\n",
       "        vertical-align: middle;\n",
       "    }\n",
       "\n",
       "    .dataframe tbody tr th {\n",
       "        vertical-align: top;\n",
       "    }\n",
       "\n",
       "    .dataframe thead th {\n",
       "        text-align: right;\n",
       "    }\n",
       "</style>\n",
       "<table border=\"1\" class=\"dataframe\">\n",
       "  <thead>\n",
       "    <tr style=\"text-align: right;\">\n",
       "      <th></th>\n",
       "      <th>popularity</th>\n",
       "      <th>duration_ms</th>\n",
       "      <th>release_date</th>\n",
       "      <th>danceability</th>\n",
       "      <th>energy</th>\n",
       "      <th>key</th>\n",
       "      <th>loudness</th>\n",
       "      <th>mode</th>\n",
       "      <th>speechiness</th>\n",
       "      <th>acousticness</th>\n",
       "      <th>instrumentalness</th>\n",
       "      <th>liveness</th>\n",
       "      <th>valence</th>\n",
       "      <th>tempo</th>\n",
       "      <th>time_signature</th>\n",
       "    </tr>\n",
       "  </thead>\n",
       "  <tbody>\n",
       "    <tr>\n",
       "      <th>0</th>\n",
       "      <td>41</td>\n",
       "      <td>159560</td>\n",
       "      <td>2020-03-13</td>\n",
       "      <td>0.671</td>\n",
       "      <td>0.867</td>\n",
       "      <td>2</td>\n",
       "      <td>-2.706</td>\n",
       "      <td>1</td>\n",
       "      <td>0.0571</td>\n",
       "      <td>0.436</td>\n",
       "      <td>0.000000</td>\n",
       "      <td>0.1390</td>\n",
       "      <td>0.839</td>\n",
       "      <td>120.689</td>\n",
       "      <td>4</td>\n",
       "    </tr>\n",
       "    <tr>\n",
       "      <th>1</th>\n",
       "      <td>18</td>\n",
       "      <td>313093</td>\n",
       "      <td>2020-10-30</td>\n",
       "      <td>0.644</td>\n",
       "      <td>0.212</td>\n",
       "      <td>11</td>\n",
       "      <td>-14.118</td>\n",
       "      <td>1</td>\n",
       "      <td>0.0347</td>\n",
       "      <td>0.881</td>\n",
       "      <td>0.000022</td>\n",
       "      <td>0.7980</td>\n",
       "      <td>0.441</td>\n",
       "      <td>117.072</td>\n",
       "      <td>3</td>\n",
       "    </tr>\n",
       "    <tr>\n",
       "      <th>2</th>\n",
       "      <td>18</td>\n",
       "      <td>295093</td>\n",
       "      <td>2020-10-30</td>\n",
       "      <td>0.627</td>\n",
       "      <td>0.184</td>\n",
       "      <td>1</td>\n",
       "      <td>-15.533</td>\n",
       "      <td>1</td>\n",
       "      <td>0.0450</td>\n",
       "      <td>0.955</td>\n",
       "      <td>0.000162</td>\n",
       "      <td>0.0986</td>\n",
       "      <td>0.299</td>\n",
       "      <td>115.864</td>\n",
       "      <td>4</td>\n",
       "    </tr>\n",
       "    <tr>\n",
       "      <th>3</th>\n",
       "      <td>17</td>\n",
       "      <td>147907</td>\n",
       "      <td>2020-10-30</td>\n",
       "      <td>0.442</td>\n",
       "      <td>0.399</td>\n",
       "      <td>6</td>\n",
       "      <td>-12.661</td>\n",
       "      <td>1</td>\n",
       "      <td>0.0780</td>\n",
       "      <td>0.930</td>\n",
       "      <td>0.000499</td>\n",
       "      <td>0.9120</td>\n",
       "      <td>0.554</td>\n",
       "      <td>121.662</td>\n",
       "      <td>4</td>\n",
       "    </tr>\n",
       "    <tr>\n",
       "      <th>4</th>\n",
       "      <td>17</td>\n",
       "      <td>183440</td>\n",
       "      <td>2020-10-30</td>\n",
       "      <td>0.581</td>\n",
       "      <td>0.331</td>\n",
       "      <td>6</td>\n",
       "      <td>-14.087</td>\n",
       "      <td>1</td>\n",
       "      <td>0.2430</td>\n",
       "      <td>0.888</td>\n",
       "      <td>0.000015</td>\n",
       "      <td>0.1470</td>\n",
       "      <td>0.642</td>\n",
       "      <td>88.303</td>\n",
       "      <td>4</td>\n",
       "    </tr>\n",
       "  </tbody>\n",
       "</table>\n",
       "</div>"
      ],
      "text/plain": [
       "   popularity  duration_ms release_date  danceability  energy  key  loudness  \\\n",
       "0          41       159560   2020-03-13         0.671   0.867    2    -2.706   \n",
       "1          18       313093   2020-10-30         0.644   0.212   11   -14.118   \n",
       "2          18       295093   2020-10-30         0.627   0.184    1   -15.533   \n",
       "3          17       147907   2020-10-30         0.442   0.399    6   -12.661   \n",
       "4          17       183440   2020-10-30         0.581   0.331    6   -14.087   \n",
       "\n",
       "   mode  speechiness  acousticness  instrumentalness  liveness  valence  \\\n",
       "0     1       0.0571         0.436          0.000000    0.1390    0.839   \n",
       "1     1       0.0347         0.881          0.000022    0.7980    0.441   \n",
       "2     1       0.0450         0.955          0.000162    0.0986    0.299   \n",
       "3     1       0.0780         0.930          0.000499    0.9120    0.554   \n",
       "4     1       0.2430         0.888          0.000015    0.1470    0.642   \n",
       "\n",
       "     tempo  time_signature  \n",
       "0  120.689               4  \n",
       "1  117.072               3  \n",
       "2  115.864               4  \n",
       "3  121.662               4  \n",
       "4   88.303               4  "
      ]
     },
     "execution_count": 2,
     "metadata": {},
     "output_type": "execute_result"
    }
   ],
   "source": [
    "data.head()"
   ]
  },
  {
   "cell_type": "code",
   "execution_count": 26,
   "metadata": {},
   "outputs": [],
   "source": [
    "X= data.drop(columns=['popularity','release_date'],axis=1)\n",
    "y= data[['popularity']]"
   ]
  },
  {
   "cell_type": "code",
   "execution_count": 27,
   "metadata": {},
   "outputs": [],
   "source": [
    "X_train, X_test, y_train, y_test = train_test_split(X, y, shuffle=True, test_size=0.15, random_state=42 )"
   ]
  },
  {
   "cell_type": "code",
   "execution_count": 28,
   "metadata": {},
   "outputs": [],
   "source": [
    "# AJOUTER , stratify= data[''] ???"
   ]
  },
  {
   "cell_type": "code",
   "execution_count": 29,
   "metadata": {},
   "outputs": [
    {
     "data": {
      "text/plain": [
       "array([[ 2.97927211e-01,  7.23972862e-01, -1.30324808e-01, ...,\n",
       "         1.49032769e-01,  1.00000000e+00,  0.00000000e+00],\n",
       "       [ 1.03087566e+00,  3.46798108e-01,  2.64344974e-01, ...,\n",
       "         1.49032769e-01,  1.00000000e+00,  0.00000000e+00],\n",
       "       [ 1.38102767e-01, -1.46236215e+00,  1.23178586e-03, ...,\n",
       "         1.49032769e-01,  0.00000000e+00,  1.00000000e+00],\n",
       "       ...,\n",
       "       [ 9.83131244e-01, -7.65547774e-01, -3.39840865e-01, ...,\n",
       "         1.49032769e-01,  0.00000000e+00,  1.00000000e+00],\n",
       "       [-4.88530800e-01, -9.89295509e-01,  1.11702660e+00, ...,\n",
       "         1.49032769e-01,  0.00000000e+00,  1.00000000e+00],\n",
       "       [ 1.33280581e-01,  4.10726033e-01,  7.17484353e-01, ...,\n",
       "         1.49032769e-01,  1.00000000e+00,  0.00000000e+00]])"
      ]
     },
     "execution_count": 29,
     "metadata": {},
     "output_type": "execute_result"
    }
   ],
   "source": [
    "cols_to_norm = ['duration_ms', 'danceability','energy','key','loudness','mode','speechiness','acousticness','instrumentalness','liveness','valence','tempo','time_signature']\n",
    "col_cat = ['mode']\n",
    "scale_one_hot = ColumnTransformer(\n",
    "    [('scaler',  StandardScaler(), cols_to_norm),\n",
    "    ('one_hot_encoder', OneHotEncoder(), col_cat)\n",
    "])\n",
    "\n",
    "preprocessor = Pipeline([\n",
    "    ('normalizer', scale_one_hot)\n",
    "    # autres étapes de votre pipeline ici\n",
    "])\n",
    "# Transformation des données\n",
    "\n",
    "preprocessor.fit_transform(X_train, y_train)"
   ]
  },
  {
   "cell_type": "code",
   "execution_count": 58,
   "metadata": {},
   "outputs": [],
   "source": [
    "my_pipe_lr = make_pipeline(preprocessor, PolynomialFeatures(degree=2), Lasso(random_state=42, max_iter=10000))\n",
    "my_pipe_lr.fit(X_train, y_train)\n",
    "pipe_lr = cross_validate(my_pipe_lr, X_train, y_train, cv=5, scoring= ['r2', 'neg_root_mean_squared_error'])"
   ]
  },
  {
   "cell_type": "code",
   "execution_count": 59,
   "metadata": {},
   "outputs": [
    {
     "name": "stdout",
     "output_type": "stream",
     "text": [
      "0.20132398851199448 22.77270298294328\n"
     ]
    }
   ],
   "source": [
    "score_lr = pipe_lr['test_r2'].mean()\n",
    "rmse_lr = np.abs(pipe_lr['test_neg_root_mean_squared_error'].mean())\n",
    "print(score_lr,rmse_lr)\n"
   ]
  },
  {
   "cell_type": "code",
   "execution_count": 64,
   "metadata": {},
   "outputs": [],
   "source": [
    "from sklearn.metrics import mean_absolute_error"
   ]
  },
  {
   "cell_type": "code",
   "execution_count": 63,
   "metadata": {},
   "outputs": [],
   "source": [
    "y_pred = my_pipe_lr.predict(X_train)"
   ]
  },
  {
   "cell_type": "code",
   "execution_count": 67,
   "metadata": {},
   "outputs": [
    {
     "data": {
      "text/plain": [
       "18.52473451384957"
      ]
     },
     "execution_count": 67,
     "metadata": {},
     "output_type": "execute_result"
    }
   ],
   "source": [
    "mean_absolute_error(y_train, y_pred)"
   ]
  },
  {
   "cell_type": "code",
   "execution_count": 60,
   "metadata": {},
   "outputs": [
    {
     "ename": "KeyError",
     "evalue": "'neg_mean_absolute_error'",
     "output_type": "error",
     "traceback": [
      "\u001b[0;31m---------------------------------------------------------------------------\u001b[0m",
      "\u001b[0;31mTypeError\u001b[0m                                 Traceback (most recent call last)",
      "File \u001b[0;32m~/miniconda3/envs/segmentation_client/lib/python3.9/site-packages/sklearn/pipeline.py:288\u001b[0m, in \u001b[0;36mPipeline.__getitem__\u001b[0;34m(self, ind)\u001b[0m\n\u001b[1;32m    287\u001b[0m \u001b[39mtry\u001b[39;00m:\n\u001b[0;32m--> 288\u001b[0m     name, est \u001b[39m=\u001b[39m \u001b[39mself\u001b[39;49m\u001b[39m.\u001b[39;49msteps[ind]\n\u001b[1;32m    289\u001b[0m \u001b[39mexcept\u001b[39;00m \u001b[39mTypeError\u001b[39;00m:\n\u001b[1;32m    290\u001b[0m     \u001b[39m# Not an int, try get step by name\u001b[39;00m\n",
      "\u001b[0;31mTypeError\u001b[0m: list indices must be integers or slices, not str",
      "\nDuring handling of the above exception, another exception occurred:\n",
      "\u001b[0;31mKeyError\u001b[0m                                  Traceback (most recent call last)",
      "Cell \u001b[0;32mIn[60], line 1\u001b[0m\n\u001b[0;32m----> 1\u001b[0m mae_lr \u001b[39m=\u001b[39m np\u001b[39m.\u001b[39mabs(my_pipe_lr[\u001b[39m'\u001b[39;49m\u001b[39mneg_mean_absolute_error\u001b[39;49m\u001b[39m'\u001b[39;49m])\n\u001b[1;32m      2\u001b[0m mae_lr\n",
      "File \u001b[0;32m~/miniconda3/envs/segmentation_client/lib/python3.9/site-packages/sklearn/pipeline.py:291\u001b[0m, in \u001b[0;36mPipeline.__getitem__\u001b[0;34m(self, ind)\u001b[0m\n\u001b[1;32m    288\u001b[0m     name, est \u001b[39m=\u001b[39m \u001b[39mself\u001b[39m\u001b[39m.\u001b[39msteps[ind]\n\u001b[1;32m    289\u001b[0m \u001b[39mexcept\u001b[39;00m \u001b[39mTypeError\u001b[39;00m:\n\u001b[1;32m    290\u001b[0m     \u001b[39m# Not an int, try get step by name\u001b[39;00m\n\u001b[0;32m--> 291\u001b[0m     \u001b[39mreturn\u001b[39;00m \u001b[39mself\u001b[39;49m\u001b[39m.\u001b[39;49mnamed_steps[ind]\n\u001b[1;32m    292\u001b[0m \u001b[39mreturn\u001b[39;00m est\n",
      "\u001b[0;31mKeyError\u001b[0m: 'neg_mean_absolute_error'"
     ]
    }
   ],
   "source": [
    "mae_lr = np.abs(my_pipe_lr['neg_mean_absolute_error'])\n",
    "mae_lr"
   ]
  },
  {
   "cell_type": "code",
   "execution_count": 69,
   "metadata": {},
   "outputs": [
    {
     "name": "stderr",
     "output_type": "stream",
     "text": [
      "/home/yanis/miniconda3/envs/segmentation_client/lib/python3.9/site-packages/sklearn/model_selection/_search.py:305: UserWarning: The total space of parameters 7 is smaller than n_iter=10. Running 7 iterations. For exhaustive searches, use GridSearchCV.\n",
      "  warnings.warn(\n"
     ]
    },
    {
     "data": {
      "text/plain": [
       "-17.565011171199252"
      ]
     },
     "execution_count": 69,
     "metadata": {},
     "output_type": "execute_result"
    }
   ],
   "source": [
    "hyperparametres = {'lasso__alpha': [0.01,0.1, 0.2,0.5, 1,10,100]}\n",
    "random_search = RandomizedSearchCV(my_pipe_lr, hyperparametres, cv=5)\n",
    "random_search.fit(X_train, y_train)\n",
    "best_params = random_search.best_params_\n",
    "\n",
    "grid_search = GridSearchCV(my_pipe_lr, hyperparametres, cv= 10, scoring='neg_mean_absolute_error')\n",
    "grid_search.fit(X_train,y_train)\n",
    "\n",
    "\n",
    "my_pipe_lr.set_params(**grid_search.best_params_)\n",
    "lasso_score = grid_search.best_score_\n",
    "lasso_score"
   ]
  },
  {
   "cell_type": "code",
   "execution_count": null,
   "metadata": {},
   "outputs": [],
   "source": [
    "from sklearn.model_selection import learning_curve"
   ]
  },
  {
   "cell_type": "code",
   "execution_count": null,
   "metadata": {},
   "outputs": [
    {
     "data": {
      "image/png": "[encoded data removed]",
      "text/plain": [
       "<Figure size 640x480 with 1 Axes>"
      ]
     },
     "metadata": {},
     "output_type": "display_data"
    }
   ],
   "source": [
    "train_sizes, train_scores, test_scores = learning_curve(my_pipe_lr,X_train,y_train,cv=5,train_sizes=np.linspace(0.1, 1.0, 50), scoring = 'neg_mean_absolute_error')                                    \n",
    "                                           \n",
    "plt.plot(train_sizes, train_scores.mean(axis=1), label='train')\n",
    "plt.plot(train_sizes, test_scores.mean(axis=1), label='validation')\n",
    "plt.xlabel('train_sizes')\n",
    "plt.legend()\n",
    "plt.show()"
   ]
  },
  {
   "cell_type": "code",
   "execution_count": 70,
   "metadata": {},
   "outputs": [
    {
     "ename": "ModuleNotFoundError",
     "evalue": "No module named 'pycaret'",
     "output_type": "error",
     "traceback": [
      "\u001b[0;31m---------------------------------------------------------------------------\u001b[0m",
      "\u001b[0;31mModuleNotFoundError\u001b[0m                       Traceback (most recent call last)",
      "Cell \u001b[0;32mIn[70], line 1\u001b[0m\n\u001b[0;32m----> 1\u001b[0m \u001b[39mimport\u001b[39;00m \u001b[39mpycaret\u001b[39;00m\n",
      "\u001b[0;31mModuleNotFoundError\u001b[0m: No module named 'pycaret'"
     ]
    }
   ],
   "source": [
    "import pycaret"
   ]
  },
  {
   "cell_type": "code",
   "execution_count": null,
   "metadata": {},
   "outputs": [],
   "source": []
  },
  {
   "cell_type": "markdown",
   "metadata": {},
   "source": [
    "forêts aléatoires pour prédire le succès des chansons, d'abord en fonction de leurs caractéristiques acoustiques"
   ]
  },
  {
   "cell_type": "markdown",
   "metadata": {},
   "source": [
    "idée de colonne:\n",
    "chanteur ou chanteuse?\n",
    "superstar : nous informant si l'artiste de la chanson était apparu dans les meilleurs classements dans un passé proche\n",
    "\n"
   ]
  },
  {
   "cell_type": "code",
   "execution_count": null,
   "metadata": {},
   "outputs": [],
   "source": []
  },
  {
   "cell_type": "code",
   "execution_count": null,
   "metadata": {},
   "outputs": [],
   "source": []
  }
 ],
 "metadata": {
  "kernelspec": {
   "display_name": "Python 3.8.16 64-bit",
   "language": "python",
   "name": "python3"
  },
  "language_info": {
   "codemirror_mode": {
    "name": "ipython",
    "version": 3
   },
   "file_extension": ".py",
   "mimetype": "text/x-python",
   "name": "python",
   "nbconvert_exporter": "python",
   "pygments_lexer": "ipython3",
   "version": "3.8.16"
  },
  "orig_nbformat": 4,
  "vscode": {
   "interpreter": {
    "hash": "5b3ded1ccb95c1d9bd405e7b823d9e85424cde40fbb5985eb47e999ef50e15b4"
   }
  }
 },
 "nbformat": 4,
 "nbformat_minor": 2
}
