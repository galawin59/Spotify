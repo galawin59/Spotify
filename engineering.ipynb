{
 "cells": [
  {
   "cell_type": "code",
   "execution_count": 3,
   "metadata": {},
   "outputs": [],
   "source": [
    "import spotipy\n",
    "import pandas as pd\n",
    "import requests\n",
    "from spotipy.oauth2 import SpotifyClientCredentials\n",
    "import base64\n",
    "import csv\n",
    "import sqlite3\n",
    "from time import sleep\n"
   ]
  },
  {
   "cell_type": "code",
   "execution_count": 88,
   "metadata": {},
   "outputs": [],
   "source": [
    "client_id = \"5c45b3b09a1b424faae5b522d584a013\"\n",
    "client_secret = \"6b011551459a43d2ac6ab49fec394dc4\""
   ]
  },
  {
   "cell_type": "code",
   "execution_count": 89,
   "metadata": {},
   "outputs": [],
   "source": [
    "audio_features = [\n",
    "  'danceability',\n",
    "  'energy',\n",
    "  'key',\n",
    "  'loudness',\n",
    "  'mode',\n",
    "  'speechiness',\n",
    "  'acousticness',\n",
    "  'instrumentalness',\n",
    "  'liveness',\n",
    "  'valence',\n",
    "  'tempo',\n",
    "  'duration_ms',\n",
    "  'time_signature'\n",
    "  ]"
   ]
  },
  {
   "cell_type": "code",
   "execution_count": 90,
   "metadata": {},
   "outputs": [],
   "source": [
    "client_credentials_manager = SpotifyClientCredentials(client_id, client_secret)\n",
    "\n",
    "# encode client_id and client_secret in base64\n",
    "client_credentials = f\"{client_id}:{client_secret}\".encode(\"ascii\")\n",
    "base64_credentials = base64.b64encode(client_credentials).decode(\"ascii\")\n",
    "\n",
    "sp = spotipy.Spotify(client_credentials_manager=client_credentials_manager)"
   ]
  },
  {
   "cell_type": "code",
   "execution_count": 91,
   "metadata": {},
   "outputs": [
    {
     "name": "stdout",
     "output_type": "stream",
     "text": [
      "Access Token: BQBKIIbsEaw1GFDjTX2tLEC4bEu3fooGDrYsPqyFaoXa0SElg3XaeaSNA2811FhtHOuhO1DaOdIvdAaNxvlQg21O2CGIWGcwi8YeLoQob726WR_RYODb\n"
     ]
    }
   ],
   "source": [
    "# make request for access token\n",
    "url = \"https://accounts.spotify.com/api/token\"\n",
    "response = requests.post(\n",
    "    url,\n",
    "    headers={\n",
    "        \"Authorization\": f\"Basic {base64_credentials}\",\n",
    "        \"Content-Type\": \"application/x-www-form-urlencoded\"\n",
    "    },\n",
    "    data={\"grant_type\": \"client_credentials\"}\n",
    ")\n",
    "\n",
    "if response.status_code == 200:\n",
    "    access_token = response.json()[\"access_token\"]\n",
    "    print(f\"Access Token: {access_token}\")\n",
    "else:\n",
    "    print(f\"Error: {response.text}\")"
   ]
  },
  {
   "cell_type": "code",
   "execution_count": 92,
   "metadata": {},
   "outputs": [
    {
     "name": "stdout",
     "output_type": "stream",
     "text": [
      "['AD', 'AE', 'AG', 'AL', 'AM', 'AO', 'AR', 'AT', 'AU', 'AZ', 'BA', 'BB', 'BD', 'BE', 'BF', 'BG', 'BH', 'BI', 'BJ', 'BN', 'BO', 'BR', 'BS', 'BT', 'BW', 'BY', 'BZ', 'CA', 'CD', 'CG', 'CH', 'CI', 'CL', 'CM', 'CO', 'CR', 'CV', 'CW', 'CY', 'CZ', 'DE', 'DJ', 'DK', 'DM', 'DO', 'DZ', 'EC', 'EE', 'EG', 'ES', 'ET', 'FI', 'FJ', 'FM', 'FR', 'GA', 'GB', 'GD', 'GE', 'GH', 'GM', 'GN', 'GQ', 'GR', 'GT', 'GW', 'GY', 'HK', 'HN', 'HR', 'HT', 'HU', 'ID', 'IE', 'IL', 'IN', 'IQ', 'IS', 'IT', 'JM', 'JO', 'JP', 'KE', 'KG', 'KH', 'KI', 'KM', 'KN', 'KR', 'KW', 'KZ', 'LA', 'LB', 'LC', 'LI', 'LK', 'LR', 'LS', 'LT', 'LU', 'LV', 'LY', 'MA', 'MC', 'MD', 'ME', 'MG', 'MH', 'MK', 'ML', 'MN', 'MO', 'MR', 'MT', 'MU', 'MV', 'MW', 'MX', 'MY', 'MZ', 'NA', 'NE', 'NG', 'NI', 'NL', 'NO', 'NP', 'NR', 'NZ', 'OM', 'PA', 'PE', 'PG', 'PH', 'PK', 'PL', 'PS', 'PT', 'PW', 'PY', 'QA', 'RO', 'RS', 'RW', 'SA', 'SB', 'SC', 'SE', 'SG', 'SI', 'SK', 'SL', 'SM', 'SN', 'SR', 'ST', 'SV', 'SZ', 'TD', 'TG', 'TH', 'TJ', 'TL', 'TN', 'TO', 'TR', 'TT', 'TV', 'TW', 'TZ', 'UA', 'UG', 'US', 'UY', 'UZ', 'VC', 'VE', 'VN', 'VU', 'WS', 'XK', 'ZA', 'ZM', 'ZW']\n"
     ]
    }
   ],
   "source": [
    "url = \"https://api.spotify.com/v1/markets\"\n",
    "\n",
    "response = requests.get(\n",
    "    url,\n",
    "    headers={\n",
    "        \"Content-Type\": \"application/json\",\n",
    "        \"Authorization\": f\"Bearer {access_token}\"\n",
    "    }\n",
    ")\n",
    "\n",
    "if response.status_code == 200:\n",
    "    data = response.json()\n",
    "    markets_list = data[\"markets\"]\n",
    "    print(markets_list)\n",
    "else:\n",
    "    print(\"Erreur lors de la récupération des marchés : \", response.text)"
   ]
  },
  {
   "cell_type": "code",
   "execution_count": 30,
   "metadata": {},
   "outputs": [],
   "source": [
    "dfs = []\n",
    "c=0\n",
    "for genre in sp.recommendation_genre_seeds()['genres']:\n",
    "    sleep(1)\n",
    "    c+=1\n",
    "    print(genre, c)\n",
    "    for offset in range(0,1000,50):\n",
    "        results = sp.search(q=f'year:2022 and genre:{genre}', type='track', limit=50, offset=offset)\n",
    "        df = pd.DataFrame.from_dict(results['tracks']['items'])\n",
    "        df['genre'] = genre\n",
    "        dfs.append(df)\n",
    "df_items = pd.concat(dfs)\n",
    "df_items.to_csv('Spotify.csv', index=False)"
   ]
  },
  {
   "cell_type": "code",
   "execution_count": 99,
   "metadata": {},
   "outputs": [
    {
     "name": "stderr",
     "output_type": "stream",
     "text": [
      "/tmp/ipykernel_20362/3646842874.py:4: SettingWithCopyWarning: \n",
      "A value is trying to be set on a copy of a slice from a DataFrame.\n",
      "Try using .loc[row_indexer,col_indexer] = value instead\n",
      "\n",
      "See the caveats in the documentation: https://pandas.pydata.org/pandas-docs/stable/user_guide/indexing.html#returning-a-view-versus-a-copy\n",
      "  df_items['audio_features'] = df_items['id'].apply(lambda id : sp.audio_features(id))\n"
     ]
    }
   ],
   "source": [
    "df_items['album'] = df_items['album'].apply(lambda album : album['album_type'])\n",
    "df_items['available_markets'] = df_items['available_markets'].apply(lambda x : len(x))\n",
    "df_items = df_items[['id','popularity','available_markets','genre']]\n",
    "df_items['audio_features'] = df_items['id'].apply(lambda id : sp.audio_features(id))\n",
    "df_items = df_items[~df_items['audio_features'].isin([[None]])]\n",
    "\n",
    "for feature in audio_features:\n",
    "    df_items[feature] = df_items['audio_features'].apply(lambda x: x[0][feature])\n",
    "df_items = df_items.drop(columns=['audio_features','id'])\n",
    "df_items = df_items.drop_duplicates()\n",
    "df_items.to_csv('spotify.csv', index=False)\n",
    "df_items['id']=df_items.index"
   ]
  },
  {
   "cell_type": "code",
   "execution_count": 4,
   "metadata": {},
   "outputs": [
    {
     "ename": "NameError",
     "evalue": "name 'df_items' is not defined",
     "output_type": "error",
     "traceback": [
      "\u001b[0;31m---------------------------------------------------------------------------\u001b[0m",
      "\u001b[0;31mNameError\u001b[0m                                 Traceback (most recent call last)",
      "Cell \u001b[0;32mIn[4], line 5\u001b[0m\n\u001b[1;32m      3\u001b[0m connexion \u001b[39m=\u001b[39m sqlite3\u001b[39m.\u001b[39mconnect(\u001b[39m'\u001b[39m\u001b[39mSpotify.sqlite\u001b[39m\u001b[39m'\u001b[39m)\n\u001b[1;32m      4\u001b[0m curseur \u001b[39m=\u001b[39m connexion\u001b[39m.\u001b[39mcursor()\n\u001b[0;32m----> 5\u001b[0m df_items\u001b[39m.\u001b[39mto_sql(\u001b[39m\"\u001b[39m\u001b[39mTRACKS\u001b[39m\u001b[39m\"\u001b[39m, connexion, if_exists\u001b[39m=\u001b[39m\u001b[39m\"\u001b[39m\u001b[39mreplace\u001b[39m\u001b[39m\"\u001b[39m)\n\u001b[1;32m      6\u001b[0m connexion\u001b[39m.\u001b[39mcommit()\n\u001b[1;32m      7\u001b[0m connexion\u001b[39m.\u001b[39mclose()\n",
      "\u001b[0;31mNameError\u001b[0m: name 'df_items' is not defined"
     ]
    }
   ],
   "source": [
    "# df_items = pd.read_csv('spotify_best.csv')\n",
    "# df_items['id'] = df_items.index\n",
    "connexion = sqlite3.connect('Spotify.sqlite')\n",
    "curseur = connexion.cursor()\n",
    "df_items.to_sql(\"TRACKS\", connexion, if_exists=\"replace\")\n",
    "connexion.commit()\n",
    "connexion.close()"
   ]
  },
  {
   "cell_type": "code",
   "execution_count": 5,
   "metadata": {},
   "outputs": [],
   "source": [
    "connexion = sqlite3.connect('Spotify.sqlite')\n",
    "curseur = connexion.cursor()\n",
    "df = pd.read_sql_query(\"SELECT * FROM TRACKS;\", connexion)\n",
    "connexion.commit()\n",
    "connexion.close()"
   ]
  },
  {
   "cell_type": "code",
   "execution_count": 177,
   "metadata": {},
   "outputs": [
    {
     "name": "stderr",
     "output_type": "stream",
     "text": [
      "/tmp/ipykernel_20362/370939326.py:1: SettingWithCopyWarning: \n",
      "A value is trying to be set on a copy of a slice from a DataFrame.\n",
      "Try using .loc[row_indexer,col_indexer] = value instead\n",
      "\n",
      "See the caveats in the documentation: https://pandas.pydata.org/pandas-docs/stable/user_guide/indexing.html#returning-a-view-versus-a-copy\n",
      "  df['category'] = df['popularity'].apply(lambda p : int(p//25))\n"
     ]
    }
   ],
   "source": [
    "df['category'] = df['popularity'].apply(lambda p : int(p//25))\n",
    "df.to_csv('spotify.csv',index=False)"
   ]
  }
 ],
 "metadata": {
  "kernelspec": {
   "display_name": "env_analyse",
   "language": "python",
   "name": "python3"
  },
  "language_info": {
   "codemirror_mode": {
    "name": "ipython",
    "version": 3
   },
   "file_extension": ".py",
   "mimetype": "text/x-python",
   "name": "python",
   "nbconvert_exporter": "python",
   "pygments_lexer": "ipython3",
   "version": "3.10.8"
  },
  "orig_nbformat": 4,
  "vscode": {
   "interpreter": {
    "hash": "c8faaa3df13ec58b8beb143f7f90cc5e06aa15833aa49204bab2587b9cba438a"
   }
  }
 },
 "nbformat": 4,
 "nbformat_minor": 2
}
