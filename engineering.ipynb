{
 "cells": [
  {
   "cell_type": "code",
<<<<<<< HEAD
   "execution_count": 87,
=======
   "execution_count": 2,
>>>>>>> origin
   "metadata": {},
   "outputs": [],
   "source": [
    "import spotipy\n",
    "import pandas as pd\n",
    "import requests\n",
    "from spotipy.oauth2 import SpotifyClientCredentials\n",
    "import base64\n",
    "import csv\n",
    "import sqlite3\n",
    "from time import sleep\n"
   ]
  },
  {
   "cell_type": "code",
<<<<<<< HEAD
   "execution_count": 88,
=======
   "execution_count": 82,
>>>>>>> origin
   "metadata": {},
   "outputs": [],
   "source": [
    "client_id = \"5c45b3b09a1b424faae5b522d584a013\"\n",
    "client_secret = \"6b011551459a43d2ac6ab49fec394dc4\""
   ]
  },
  {
   "cell_type": "code",
<<<<<<< HEAD
   "execution_count": 89,
=======
   "execution_count": 83,
>>>>>>> origin
   "metadata": {},
   "outputs": [],
   "source": [
    "audio_features = [\n",
    "  'danceability',\n",
    "  'energy',\n",
    "  'key',\n",
    "  'loudness',\n",
    "  'mode',\n",
    "  'speechiness',\n",
    "  'acousticness',\n",
    "  'instrumentalness',\n",
    "  'liveness',\n",
    "  'valence',\n",
    "  'tempo',\n",
    "  'duration_ms',\n",
    "  'time_signature'\n",
    "  ]"
   ]
  },
  {
   "cell_type": "code",
<<<<<<< HEAD
   "execution_count": 90,
=======
   "execution_count": 85,
>>>>>>> origin
   "metadata": {},
   "outputs": [],
   "source": [
    "client_credentials_manager = SpotifyClientCredentials(client_id, client_secret)\n",
    "\n",
    "# encode client_id and client_secret in base64\n",
    "client_credentials = f\"{client_id}:{client_secret}\".encode(\"ascii\")\n",
    "base64_credentials = base64.b64encode(client_credentials).decode(\"ascii\")\n",
    "\n",
    "sp = spotipy.Spotify(client_credentials_manager=client_credentials_manager)"
   ]
  },
  {
   "cell_type": "code",
<<<<<<< HEAD
   "execution_count": 91,
=======
   "execution_count": 86,
>>>>>>> origin
   "metadata": {},
   "outputs": [
    {
     "name": "stdout",
     "output_type": "stream",
     "text": [
<<<<<<< HEAD
      "Access Token: BQBKIIbsEaw1GFDjTX2tLEC4bEu3fooGDrYsPqyFaoXa0SElg3XaeaSNA2811FhtHOuhO1DaOdIvdAaNxvlQg21O2CGIWGcwi8YeLoQob726WR_RYODb\n"
=======
      "Access Token: BQCP1wGOu73V0rwBoWDOPFPFnkRKLfdcsd4CXyEJEjk141ubetrT_9Ci0w5HcAO2brNECH7EjNuAPykaYfnZqx2aQdKHef1zot4cE7QC0CLNn5XqPB2r\n"
>>>>>>> origin
     ]
    }
   ],
   "source": [
    "# make request for access token\n",
    "url = \"https://accounts.spotify.com/api/token\"\n",
    "response = requests.post(\n",
    "    url,\n",
    "    headers={\n",
    "        \"Authorization\": f\"Basic {base64_credentials}\",\n",
    "        \"Content-Type\": \"application/x-www-form-urlencoded\"\n",
    "    },\n",
    "    data={\"grant_type\": \"client_credentials\"}\n",
    ")\n",
    "\n",
    "if response.status_code == 200:\n",
    "    access_token = response.json()[\"access_token\"]\n",
    "    print(f\"Access Token: {access_token}\")\n",
    "else:\n",
    "    print(f\"Error: {response.text}\")"
   ]
  },
  {
   "cell_type": "code",
<<<<<<< HEAD
   "execution_count": 92,
=======
   "execution_count": null,
>>>>>>> origin
   "metadata": {},
   "outputs": [
    {
     "name": "stdout",
     "output_type": "stream",
     "text": [
      "['AD', 'AE', 'AG', 'AL', 'AM', 'AO', 'AR', 'AT', 'AU', 'AZ', 'BA', 'BB', 'BD', 'BE', 'BF', 'BG', 'BH', 'BI', 'BJ', 'BN', 'BO', 'BR', 'BS', 'BT', 'BW', 'BY', 'BZ', 'CA', 'CD', 'CG', 'CH', 'CI', 'CL', 'CM', 'CO', 'CR', 'CV', 'CW', 'CY', 'CZ', 'DE', 'DJ', 'DK', 'DM', 'DO', 'DZ', 'EC', 'EE', 'EG', 'ES', 'ET', 'FI', 'FJ', 'FM', 'FR', 'GA', 'GB', 'GD', 'GE', 'GH', 'GM', 'GN', 'GQ', 'GR', 'GT', 'GW', 'GY', 'HK', 'HN', 'HR', 'HT', 'HU', 'ID', 'IE', 'IL', 'IN', 'IQ', 'IS', 'IT', 'JM', 'JO', 'JP', 'KE', 'KG', 'KH', 'KI', 'KM', 'KN', 'KR', 'KW', 'KZ', 'LA', 'LB', 'LC', 'LI', 'LK', 'LR', 'LS', 'LT', 'LU', 'LV', 'LY', 'MA', 'MC', 'MD', 'ME', 'MG', 'MH', 'MK', 'ML', 'MN', 'MO', 'MR', 'MT', 'MU', 'MV', 'MW', 'MX', 'MY', 'MZ', 'NA', 'NE', 'NG', 'NI', 'NL', 'NO', 'NP', 'NR', 'NZ', 'OM', 'PA', 'PE', 'PG', 'PH', 'PK', 'PL', 'PS', 'PT', 'PW', 'PY', 'QA', 'RO', 'RS', 'RW', 'SA', 'SB', 'SC', 'SE', 'SG', 'SI', 'SK', 'SL', 'SM', 'SN', 'SR', 'ST', 'SV', 'SZ', 'TD', 'TG', 'TH', 'TJ', 'TL', 'TN', 'TO', 'TR', 'TT', 'TV', 'TW', 'TZ', 'UA', 'UG', 'US', 'UY', 'UZ', 'VC', 'VE', 'VN', 'VU', 'WS', 'XK', 'ZA', 'ZM', 'ZW']\n"
     ]
    }
   ],
   "source": [
    "url = \"https://api.spotify.com/v1/markets\"\n",
    "\n",
    "response = requests.get(\n",
    "    url,\n",
    "    headers={\n",
    "        \"Content-Type\": \"application/json\",\n",
    "        \"Authorization\": f\"Bearer {access_token}\"\n",
    "    }\n",
    ")\n",
    "\n",
    "if response.status_code == 200:\n",
    "    data = response.json()\n",
    "    markets_list = data[\"markets\"]\n",
    "    print(markets_list)\n",
    "else:\n",
    "    print(\"Erreur lors de la récupération des marchés : \", response.text)"
   ]
  },
  {
   "cell_type": "code",
   "execution_count": 30,
   "metadata": {},
   "outputs": [],
   "source": [
    "dfs = []\n",
    "c=0\n",
    "for genre in sp.recommendation_genre_seeds()['genres']:\n",
<<<<<<< HEAD
    "    sleep(1)\n",
=======
    "    sleep(5)\n",
>>>>>>> origin
    "    c+=1\n",
    "    print(genre, c)\n",
    "    for offset in range(0,1000,50):\n",
    "        results = sp.search(q=f'year:2022 and genre:{genre}', type='track', limit=50, offset=offset)\n",
    "        df = pd.DataFrame.from_dict(results['tracks']['items'])\n",
    "        df['genre'] = genre\n",
    "        dfs.append(df)\n",
    "df_items = pd.concat(dfs)\n",
    "df_items.to_csv('Spotify.csv', index=False)"
   ]
  },
  {
   "cell_type": "code",
<<<<<<< HEAD
   "execution_count": 99,
   "metadata": {},
   "outputs": [
    {
     "name": "stderr",
     "output_type": "stream",
     "text": [
      "/tmp/ipykernel_20362/3646842874.py:4: SettingWithCopyWarning: \n",
      "A value is trying to be set on a copy of a slice from a DataFrame.\n",
      "Try using .loc[row_indexer,col_indexer] = value instead\n",
      "\n",
      "See the caveats in the documentation: https://pandas.pydata.org/pandas-docs/stable/user_guide/indexing.html#returning-a-view-versus-a-copy\n",
      "  df_items['audio_features'] = df_items['id'].apply(lambda id : sp.audio_features(id))\n"
     ]
    }
   ],
=======
   "execution_count": 79,
   "metadata": {},
   "outputs": [],
>>>>>>> origin
   "source": [
    "df_items['album'] = df_items['album'].apply(lambda album : album['album_type'])\n",
    "df_items['available_markets'] = df_items['available_markets'].apply(lambda x : len(x))\n",
    "df_items = df_items[['id','popularity','available_markets','genre']]\n",
    "df_items['audio_features'] = df_items['id'].apply(lambda id : sp.audio_features(id))\n",
    "df_items = df_items[~df_items['audio_features'].isin([[None]])]\n",
    "\n",
    "for feature in audio_features:\n",
    "    df_items[feature] = df_items['audio_features'].apply(lambda x: x[0][feature])\n",
    "df_items = df_items.drop(columns=['audio_features','id'])\n",
    "df_items = df_items.drop_duplicates()\n",
<<<<<<< HEAD
    "df_items.to_csv('spotify.csv', index=False)\n",
    "df_items['id']=df_items.index"
=======
    "df_items.to_csv('Spotify.csv', index=False)"
>>>>>>> origin
   ]
  },
  {
   "cell_type": "code",
<<<<<<< HEAD
   "execution_count": 178,
   "metadata": {},
   "outputs": [
    {
     "name": "stderr",
     "output_type": "stream",
     "text": [
      "/tmp/ipykernel_20362/1066703953.py:3: SettingWithCopyWarning: \n",
      "A value is trying to be set on a copy of a slice from a DataFrame.\n",
      "Try using .loc[row_indexer,col_indexer] = value instead\n",
      "\n",
      "See the caveats in the documentation: https://pandas.pydata.org/pandas-docs/stable/user_guide/indexing.html#returning-a-view-versus-a-copy\n",
      "  df_items['id'] = df_items.index\n"
     ]
    }
   ],
   "source": [
    "# df_items = pd.read_csv('spotify_best.csv')\n",
    "# df_items['id'] = df_items.index\n",
=======
   "execution_count": 77,
   "metadata": {},
   "outputs": [],
   "source": [
>>>>>>> origin
    "connexion = sqlite3.connect('Spotify.sqlite')\n",
    "curseur = connexion.cursor()\n",
    "df_items.to_sql(\"TRACKS\", connexion, if_exists=\"replace\")\n",
    "connexion.commit()\n",
    "connexion.close()"
   ]
  },
  {
   "cell_type": "code",
<<<<<<< HEAD
   "execution_count": 144,
   "metadata": {},
   "outputs": [],
=======
   "execution_count": 78,
   "metadata": {},
   "outputs": [
    {
     "data": {
      "text/html": [
       "<div>\n",
       "<style scoped>\n",
       "    .dataframe tbody tr th:only-of-type {\n",
       "        vertical-align: middle;\n",
       "    }\n",
       "\n",
       "    .dataframe tbody tr th {\n",
       "        vertical-align: top;\n",
       "    }\n",
       "\n",
       "    .dataframe thead th {\n",
       "        text-align: right;\n",
       "    }\n",
       "</style>\n",
       "<table border=\"1\" class=\"dataframe\">\n",
       "  <thead>\n",
       "    <tr style=\"text-align: right;\">\n",
       "      <th></th>\n",
       "      <th>index</th>\n",
       "      <th>popularity</th>\n",
       "      <th>available_markets</th>\n",
       "      <th>genre</th>\n",
       "      <th>danceability</th>\n",
       "      <th>energy</th>\n",
       "      <th>key</th>\n",
       "      <th>loudness</th>\n",
       "      <th>mode</th>\n",
       "      <th>speechiness</th>\n",
       "      <th>acousticness</th>\n",
       "      <th>instrumentalness</th>\n",
       "      <th>liveness</th>\n",
       "      <th>valence</th>\n",
       "      <th>tempo</th>\n",
       "      <th>duration_ms</th>\n",
       "      <th>time_signature</th>\n",
       "    </tr>\n",
       "  </thead>\n",
       "  <tbody>\n",
       "    <tr>\n",
       "      <th>0</th>\n",
       "      <td>0</td>\n",
       "      <td>53.0</td>\n",
       "      <td>184</td>\n",
       "      <td>acoustic</td>\n",
       "      <td>0.625</td>\n",
       "      <td>0.81000</td>\n",
       "      <td>10</td>\n",
       "      <td>-5.995</td>\n",
       "      <td>1</td>\n",
       "      <td>0.0330</td>\n",
       "      <td>0.1460</td>\n",
       "      <td>0.000027</td>\n",
       "      <td>0.1350</td>\n",
       "      <td>0.74100</td>\n",
       "      <td>104.066</td>\n",
       "      <td>146360</td>\n",
       "      <td>4</td>\n",
       "    </tr>\n",
       "    <tr>\n",
       "      <th>1</th>\n",
       "      <td>1</td>\n",
       "      <td>54.0</td>\n",
       "      <td>184</td>\n",
       "      <td>acoustic</td>\n",
       "      <td>0.545</td>\n",
       "      <td>0.64200</td>\n",
       "      <td>10</td>\n",
       "      <td>-7.344</td>\n",
       "      <td>1</td>\n",
       "      <td>0.0279</td>\n",
       "      <td>0.5170</td>\n",
       "      <td>0.000002</td>\n",
       "      <td>0.1160</td>\n",
       "      <td>0.55500</td>\n",
       "      <td>78.510</td>\n",
       "      <td>189282</td>\n",
       "      <td>4</td>\n",
       "    </tr>\n",
       "    <tr>\n",
       "      <th>2</th>\n",
       "      <td>2</td>\n",
       "      <td>51.0</td>\n",
       "      <td>184</td>\n",
       "      <td>acoustic</td>\n",
       "      <td>0.589</td>\n",
       "      <td>0.42200</td>\n",
       "      <td>4</td>\n",
       "      <td>-10.780</td>\n",
       "      <td>0</td>\n",
       "      <td>0.0296</td>\n",
       "      <td>0.8680</td>\n",
       "      <td>0.027900</td>\n",
       "      <td>0.0897</td>\n",
       "      <td>0.29300</td>\n",
       "      <td>94.968</td>\n",
       "      <td>182601</td>\n",
       "      <td>4</td>\n",
       "    </tr>\n",
       "    <tr>\n",
       "      <th>3</th>\n",
       "      <td>3</td>\n",
       "      <td>48.0</td>\n",
       "      <td>184</td>\n",
       "      <td>acoustic</td>\n",
       "      <td>0.339</td>\n",
       "      <td>0.63900</td>\n",
       "      <td>5</td>\n",
       "      <td>-5.162</td>\n",
       "      <td>1</td>\n",
       "      <td>0.0313</td>\n",
       "      <td>0.0679</td>\n",
       "      <td>0.000000</td>\n",
       "      <td>0.2910</td>\n",
       "      <td>0.56500</td>\n",
       "      <td>83.132</td>\n",
       "      <td>207085</td>\n",
       "      <td>4</td>\n",
       "    </tr>\n",
       "    <tr>\n",
       "      <th>4</th>\n",
       "      <td>4</td>\n",
       "      <td>45.0</td>\n",
       "      <td>183</td>\n",
       "      <td>acoustic</td>\n",
       "      <td>0.594</td>\n",
       "      <td>0.26100</td>\n",
       "      <td>11</td>\n",
       "      <td>-8.342</td>\n",
       "      <td>1</td>\n",
       "      <td>0.0348</td>\n",
       "      <td>0.9000</td>\n",
       "      <td>0.000000</td>\n",
       "      <td>0.0798</td>\n",
       "      <td>0.50900</td>\n",
       "      <td>159.903</td>\n",
       "      <td>257853</td>\n",
       "      <td>4</td>\n",
       "    </tr>\n",
       "    <tr>\n",
       "      <th>...</th>\n",
       "      <td>...</td>\n",
       "      <td>...</td>\n",
       "      <td>...</td>\n",
       "      <td>...</td>\n",
       "      <td>...</td>\n",
       "      <td>...</td>\n",
       "      <td>...</td>\n",
       "      <td>...</td>\n",
       "      <td>...</td>\n",
       "      <td>...</td>\n",
       "      <td>...</td>\n",
       "      <td>...</td>\n",
       "      <td>...</td>\n",
       "      <td>...</td>\n",
       "      <td>...</td>\n",
       "      <td>...</td>\n",
       "      <td>...</td>\n",
       "    </tr>\n",
       "    <tr>\n",
       "      <th>78527</th>\n",
       "      <td>78527</td>\n",
       "      <td>0.0</td>\n",
       "      <td>185</td>\n",
       "      <td>world-music</td>\n",
       "      <td>0.276</td>\n",
       "      <td>0.98700</td>\n",
       "      <td>1</td>\n",
       "      <td>-23.942</td>\n",
       "      <td>1</td>\n",
       "      <td>0.0757</td>\n",
       "      <td>0.6340</td>\n",
       "      <td>0.166000</td>\n",
       "      <td>0.8830</td>\n",
       "      <td>0.00794</td>\n",
       "      <td>89.610</td>\n",
       "      <td>51000</td>\n",
       "      <td>3</td>\n",
       "    </tr>\n",
       "    <tr>\n",
       "      <th>78528</th>\n",
       "      <td>78528</td>\n",
       "      <td>0.0</td>\n",
       "      <td>185</td>\n",
       "      <td>world-music</td>\n",
       "      <td>0.179</td>\n",
       "      <td>0.99600</td>\n",
       "      <td>10</td>\n",
       "      <td>-23.422</td>\n",
       "      <td>0</td>\n",
       "      <td>0.1040</td>\n",
       "      <td>0.6630</td>\n",
       "      <td>0.965000</td>\n",
       "      <td>0.9580</td>\n",
       "      <td>0.00196</td>\n",
       "      <td>84.226</td>\n",
       "      <td>51000</td>\n",
       "      <td>4</td>\n",
       "    </tr>\n",
       "    <tr>\n",
       "      <th>78529</th>\n",
       "      <td>78529</td>\n",
       "      <td>0.0</td>\n",
       "      <td>185</td>\n",
       "      <td>world-music</td>\n",
       "      <td>0.128</td>\n",
       "      <td>0.99700</td>\n",
       "      <td>1</td>\n",
       "      <td>-20.798</td>\n",
       "      <td>1</td>\n",
       "      <td>0.0635</td>\n",
       "      <td>0.4120</td>\n",
       "      <td>0.893000</td>\n",
       "      <td>0.9700</td>\n",
       "      <td>0.00001</td>\n",
       "      <td>146.436</td>\n",
       "      <td>117000</td>\n",
       "      <td>1</td>\n",
       "    </tr>\n",
       "    <tr>\n",
       "      <th>78530</th>\n",
       "      <td>78530</td>\n",
       "      <td>0.0</td>\n",
       "      <td>183</td>\n",
       "      <td>world-music</td>\n",
       "      <td>0.166</td>\n",
       "      <td>0.01810</td>\n",
       "      <td>1</td>\n",
       "      <td>-37.048</td>\n",
       "      <td>1</td>\n",
       "      <td>0.0383</td>\n",
       "      <td>0.9940</td>\n",
       "      <td>0.874000</td>\n",
       "      <td>0.1230</td>\n",
       "      <td>0.04420</td>\n",
       "      <td>71.162</td>\n",
       "      <td>120000</td>\n",
       "      <td>3</td>\n",
       "    </tr>\n",
       "    <tr>\n",
       "      <th>78531</th>\n",
       "      <td>78531</td>\n",
       "      <td>0.0</td>\n",
       "      <td>185</td>\n",
       "      <td>world-music</td>\n",
       "      <td>0.167</td>\n",
       "      <td>0.00021</td>\n",
       "      <td>10</td>\n",
       "      <td>-24.545</td>\n",
       "      <td>1</td>\n",
       "      <td>0.2220</td>\n",
       "      <td>0.1360</td>\n",
       "      <td>0.415000</td>\n",
       "      <td>0.1170</td>\n",
       "      <td>0.01550</td>\n",
       "      <td>62.529</td>\n",
       "      <td>141386</td>\n",
       "      <td>4</td>\n",
       "    </tr>\n",
       "  </tbody>\n",
       "</table>\n",
       "<p>78532 rows × 17 columns</p>\n",
       "</div>"
      ],
      "text/plain": [
       "       index  popularity  available_markets        genre  danceability  \\\n",
       "0          0        53.0                184     acoustic         0.625   \n",
       "1          1        54.0                184     acoustic         0.545   \n",
       "2          2        51.0                184     acoustic         0.589   \n",
       "3          3        48.0                184     acoustic         0.339   \n",
       "4          4        45.0                183     acoustic         0.594   \n",
       "...      ...         ...                ...          ...           ...   \n",
       "78527  78527         0.0                185  world-music         0.276   \n",
       "78528  78528         0.0                185  world-music         0.179   \n",
       "78529  78529         0.0                185  world-music         0.128   \n",
       "78530  78530         0.0                183  world-music         0.166   \n",
       "78531  78531         0.0                185  world-music         0.167   \n",
       "\n",
       "        energy  key  loudness  mode  speechiness  acousticness  \\\n",
       "0      0.81000   10    -5.995     1       0.0330        0.1460   \n",
       "1      0.64200   10    -7.344     1       0.0279        0.5170   \n",
       "2      0.42200    4   -10.780     0       0.0296        0.8680   \n",
       "3      0.63900    5    -5.162     1       0.0313        0.0679   \n",
       "4      0.26100   11    -8.342     1       0.0348        0.9000   \n",
       "...        ...  ...       ...   ...          ...           ...   \n",
       "78527  0.98700    1   -23.942     1       0.0757        0.6340   \n",
       "78528  0.99600   10   -23.422     0       0.1040        0.6630   \n",
       "78529  0.99700    1   -20.798     1       0.0635        0.4120   \n",
       "78530  0.01810    1   -37.048     1       0.0383        0.9940   \n",
       "78531  0.00021   10   -24.545     1       0.2220        0.1360   \n",
       "\n",
       "       instrumentalness  liveness  valence    tempo  duration_ms  \\\n",
       "0              0.000027    0.1350  0.74100  104.066       146360   \n",
       "1              0.000002    0.1160  0.55500   78.510       189282   \n",
       "2              0.027900    0.0897  0.29300   94.968       182601   \n",
       "3              0.000000    0.2910  0.56500   83.132       207085   \n",
       "4              0.000000    0.0798  0.50900  159.903       257853   \n",
       "...                 ...       ...      ...      ...          ...   \n",
       "78527          0.166000    0.8830  0.00794   89.610        51000   \n",
       "78528          0.965000    0.9580  0.00196   84.226        51000   \n",
       "78529          0.893000    0.9700  0.00001  146.436       117000   \n",
       "78530          0.874000    0.1230  0.04420   71.162       120000   \n",
       "78531          0.415000    0.1170  0.01550   62.529       141386   \n",
       "\n",
       "       time_signature  \n",
       "0                   4  \n",
       "1                   4  \n",
       "2                   4  \n",
       "3                   4  \n",
       "4                   4  \n",
       "...               ...  \n",
       "78527               3  \n",
       "78528               4  \n",
       "78529               1  \n",
       "78530               3  \n",
       "78531               4  \n",
       "\n",
       "[78532 rows x 17 columns]"
      ]
     },
     "execution_count": 78,
     "metadata": {},
     "output_type": "execute_result"
    }
   ],
>>>>>>> origin
   "source": [
    "connexion = sqlite3.connect('Spotify.sqlite')\n",
    "curseur = connexion.cursor()\n",
    "df = pd.read_sql_query(\"SELECT * FROM TRACKS;\", connexion)\n",
    "connexion.commit()\n",
<<<<<<< HEAD
    "connexion.close()"
   ]
  },
  {
   "cell_type": "code",
   "execution_count": 177,
   "metadata": {},
   "outputs": [
    {
     "name": "stderr",
     "output_type": "stream",
     "text": [
      "/tmp/ipykernel_20362/370939326.py:1: SettingWithCopyWarning: \n",
      "A value is trying to be set on a copy of a slice from a DataFrame.\n",
      "Try using .loc[row_indexer,col_indexer] = value instead\n",
      "\n",
      "See the caveats in the documentation: https://pandas.pydata.org/pandas-docs/stable/user_guide/indexing.html#returning-a-view-versus-a-copy\n",
      "  df['category'] = df['popularity'].apply(lambda p : int(p//25))\n"
     ]
    }
   ],
   "source": [
    "df['category'] = df['popularity'].apply(lambda p : int(p//25))\n",
    "df.to_csv('spotify.csv',index=False)"
=======
    "connexion.close()\n",
    "df"
>>>>>>> origin
   ]
  }
 ],
 "metadata": {
  "kernelspec": {
   "display_name": "env_analyse",
   "language": "python",
   "name": "python3"
  },
  "language_info": {
   "codemirror_mode": {
    "name": "ipython",
    "version": 3
   },
   "file_extension": ".py",
   "mimetype": "text/x-python",
   "name": "python",
   "nbconvert_exporter": "python",
   "pygments_lexer": "ipython3",
   "version": "3.10.8"
  },
  "orig_nbformat": 4,
  "vscode": {
   "interpreter": {
    "hash": "c8faaa3df13ec58b8beb143f7f90cc5e06aa15833aa49204bab2587b9cba438a"
   }
  }
 },
 "nbformat": 4,
 "nbformat_minor": 2
}
