{
 "cells": [
  {
   "cell_type": "code",
   "execution_count": 14,
   "metadata": {},
   "outputs": [],
   "source": [
    "import pandas as pd \n",
    "from time import sleep\n"
   ]
  },
  {
   "cell_type": "code",
   "execution_count": 15,
   "metadata": {},
   "outputs": [],
   "source": [
    "from spotipy.oauth2 import SpotifyClientCredentials"
   ]
  },
  {
   "cell_type": "code",
   "execution_count": 16,
   "metadata": {},
   "outputs": [],
   "source": [
    "import spotipy as sp\n",
    "from spotipy.oauth2 import SpotifyOAuth\n",
    "client_id = 'a0c75a6484614cf095467b1aecca459e'\n",
    "client_secret = 'a81c38e2b605476c85965d5dabcc4ae5'\n",
    "client_credentials_manager = SpotifyClientCredentials(client_id, client_secret)"
   ]
  },
  {
   "cell_type": "code",
   "execution_count": 17,
   "metadata": {},
   "outputs": [
    {
     "ename": "AttributeError",
     "evalue": "module 'spotipy' has no attribute 'search'",
     "output_type": "error",
     "traceback": [
      "\u001b[0;31m---------------------------------------------------------------------------\u001b[0m",
      "\u001b[0;31mAttributeError\u001b[0m                            Traceback (most recent call last)",
      "Cell \u001b[0;32mIn[17], line 19\u001b[0m\n\u001b[1;32m      1\u001b[0m audio_features \u001b[39m=\u001b[39m [\n\u001b[1;32m      2\u001b[0m   \u001b[39m'\u001b[39m\u001b[39mdanceability\u001b[39m\u001b[39m'\u001b[39m,\n\u001b[1;32m      3\u001b[0m   \u001b[39m'\u001b[39m\u001b[39menergy\u001b[39m\u001b[39m'\u001b[39m,\n\u001b[0;32m   (...)\u001b[0m\n\u001b[1;32m     14\u001b[0m   \u001b[39m'\u001b[39m\u001b[39mtime_signature\u001b[39m\u001b[39m'\u001b[39m\n\u001b[1;32m     15\u001b[0m   ]\n\u001b[0;32m---> 19\u001b[0m results \u001b[39m=\u001b[39m sp\u001b[39m.\u001b[39;49msearch(q\u001b[39m=\u001b[39m\u001b[39m'\u001b[39m\u001b[39myear:2022 genre:hip-hop\u001b[39m\u001b[39m'\u001b[39m, \u001b[39mtype\u001b[39m\u001b[39m=\u001b[39m\u001b[39m'\u001b[39m\u001b[39mtrack\u001b[39m\u001b[39m'\u001b[39m, limit\u001b[39m=\u001b[39m\u001b[39m50\u001b[39m)\n\u001b[1;32m     21\u001b[0m items \u001b[39m=\u001b[39m results[\u001b[39m'\u001b[39m\u001b[39mtracks\u001b[39m\u001b[39m'\u001b[39m][\u001b[39m'\u001b[39m\u001b[39mitems\u001b[39m\u001b[39m'\u001b[39m]\n\u001b[1;32m     22\u001b[0m df_items \u001b[39m=\u001b[39m pd\u001b[39m.\u001b[39mDataFrame\u001b[39m.\u001b[39mfrom_dict(items)\n",
      "\u001b[0;31mAttributeError\u001b[0m: module 'spotipy' has no attribute 'search'"
     ]
    }
   ],
   "source": [
    "audio_features = [\n",
    "  'danceability',\n",
    "  'energy',\n",
    "  'key',\n",
    "  'loudness',\n",
    "  'mode',\n",
    "  'speechiness',\n",
    "  'acousticness',\n",
    "  'instrumentalness',\n",
    "  'liveness',\n",
    "  'valence',\n",
    "  'tempo',\n",
    "  'duration_ms',\n",
    "  'time_signature'\n",
    "  ]\n",
    "\n",
    "\n",
    "\n",
    "results = sp.search(q='year:2022 genre:hip-hop', type='track', limit=50)\n",
    "\n",
    "items = results['tracks']['items']\n",
    "df_items = pd.DataFrame.from_dict(items)\n",
    "df_items['album'] = df_items['album'].apply(lambda album : album['album_type'])\n",
    "df_items['available_markets'] = df_items['available_markets'].apply(lambda x : len(x))\n",
    "df_items = df_items[['id','name','popularity']]\n",
    "df_items['audio_features'] = df_items['id'].apply(lambda id : sp.audio_features(id))\n",
    "\n",
    "for feature in audio_features:\n",
    "    df_items[feature] = df_items['audio_features'].apply(lambda x: x[0][feature])\n",
    "df_items = df_items.drop(columns=['audio_features','id'])\n",
    "\n",
    "df_items.head()"
   ]
  },
  {
   "cell_type": "code",
   "execution_count": null,
   "metadata": {},
   "outputs": [],
   "source": [
    "audio_features = [\n",
    "  'danceability',\n",
    "  'energy',\n",
    "  'key',\n",
    "  'loudness',\n",
    "  'mode',\n",
    "  'speechiness',\n",
    "  'acousticness',\n",
    "  'instrumentalness',\n",
    "  'liveness',\n",
    "  'valence',\n",
    "  'tempo',\n",
    "  'duration_ms',\n",
    "  'time_signature'\n",
    "  ]"
   ]
  },
  {
   "cell_type": "code",
   "execution_count": null,
   "metadata": {},
   "outputs": [],
   "source": [
    "import time "
   ]
  },
  {
   "cell_type": "code",
   "execution_count": null,
   "metadata": {},
   "outputs": [],
   "source": [
    "tracksData = []\n",
    "for month in range(1, 2):\n",
    "    for offset in range(0, 1000, 50):\n",
    "        results = sp.search(q=f'year:2022 AND month:{month}', type='track', limit=50, offset=offset)\n",
    "        tracks = results.get('tracks', {}).get('items', [])\n",
    "        for track in tracks:\n",
    "            audio_features = sp.audio_features(track['id'])\n",
    "            tracksData.append((track['name'], track['album']['name'], track['duration_ms'], track['popularity'], audio_features))\n",
    "        time.sleep(1) # pause d'une seconde entre chaque requête pour éviter de dépasser le taux limite d'appel API"
   ]
  },
  {
   "cell_type": "code",
   "execution_count": null,
   "metadata": {},
   "outputs": [],
   "source": []
  },
  {
   "cell_type": "code",
   "execution_count": null,
   "metadata": {},
   "outputs": [
    {
     "data": {
      "text/plain": [
       "998"
      ]
     },
     "execution_count": 116,
     "metadata": {},
     "output_type": "execute_result"
    }
   ],
   "source": [
    "len(tracksData)"
   ]
  },
  {
   "cell_type": "code",
   "execution_count": null,
   "metadata": {},
   "outputs": [],
   "source": [
    "tracksData = []\n",
    "for month in range(2, 3):\n",
    "    for offset in range(0, 1000, 50):\n",
    "        results = sp.search(q=f'year:2022 AND month:{month}', type='track', limit=50, offset=offset)\n",
    "        tracks = results.get('tracks', {}).get('items', [])\n",
    "        for track in tracks:\n",
    "            audio_features = sp.audio_features(track['id'])\n",
    "            tracksData.append((track['name'], track['album']['name'], track['duration_ms'], track['popularity'], audio_features))\n",
    "        time.sleep(1) # pause d'une seconde entre chaque requête pour éviter de dépasser le taux limite d'appel API"
   ]
  }
 ],
 "metadata": {
  "kernelspec": {
   "display_name": "Python 3.9.16 ('segmentation_client')",
   "language": "python",
   "name": "python3"
  },
  "language_info": {
   "codemirror_mode": {
    "name": "ipython",
    "version": 3
   },
   "file_extension": ".py",
   "mimetype": "text/x-python",
   "name": "python",
   "nbconvert_exporter": "python",
   "pygments_lexer": "ipython3",
   "version": "3.9.16"
  },
  "orig_nbformat": 4,
  "vscode": {
   "interpreter": {
    "hash": "9c80e3c349012bae2e40c7098ea92e63bc0d3860d39f87ac33c4a40f27fd4d53"
   }
  }
 },
 "nbformat": 4,
 "nbformat_minor": 2
}
